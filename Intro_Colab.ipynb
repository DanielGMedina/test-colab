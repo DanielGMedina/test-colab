{
  "nbformat": 4,
  "nbformat_minor": 0,
  "metadata": {
    "accelerator": "GPU",
    "colab": {
      "name": "Intro_Colab.ipynb",
      "provenance": [],
      "collapsed_sections": [],
      "toc_visible": true
    },
    "kernelspec": {
      "display_name": "Python 3",
      "language": "python",
      "name": "python3"
    },
    "language_info": {
      "codemirror_mode": {
        "name": "ipython",
        "version": 3
      },
      "file_extension": ".py",
      "mimetype": "text/x-python",
      "name": "python",
      "nbconvert_exporter": "python",
      "pygments_lexer": "ipython3",
      "version": "3.7.7"
    }
  },
  "cells": [
    {
      "cell_type": "markdown",
      "metadata": {
        "id": "iXmGoNAiymcd"
      },
      "source": [
        "<!-- <img src=\"https://s3-eu-west-1.amazonaws.com/dani.gon.med/cidaen/images/cidaenNB.png\" alt=\"Logo CiDAEN\" align=\"right\"> -->\n",
        "\n",
        "<h1><font color=\"#113D68\" size=5>Módulo 6</font></h1>\n",
        "\n",
        "\n",
        "\n",
        "<h1><font color=\"#113D68\" size=6>Test Google Colab GitHub</font></h1>\n",
        "\n",
        "<br><br>\n",
        "<div style=\"text-align: right\">\n",
        "  <font color=\"#113D68\" size=3>Daniel González</font><br>\n",
        "  <font color=\"#113D68\" size=3>Máster en Ciencia de Datos e Ingienería de Datos en la Nube</font><br>\n",
        "  <font color=\"#113D68\" size=3>Universidad de Castilla-La Mancha</font>\n",
        "</div>"
      ]
    }
  ]
}