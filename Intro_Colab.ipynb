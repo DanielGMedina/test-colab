{
  "nbformat": 4,
  "nbformat_minor": 0,
  "metadata": {
    "accelerator": "GPU",
    "colab": {
      "name": "Intro_Colab.ipynb",
      "provenance": [],
      "collapsed_sections": [],
      "toc_visible": true
    },
    "kernelspec": {
      "display_name": "Python 3",
      "language": "python",
      "name": "python3"
    },
    "language_info": {
      "codemirror_mode": {
        "name": "ipython",
        "version": 3
      },
      "file_extension": ".py",
      "mimetype": "text/x-python",
      "name": "python",
      "nbconvert_exporter": "python",
      "pygments_lexer": "ipython3",
      "version": "3.7.7"
    }
  },
  "cells": [
    {
      "cell_type": "markdown",
      "metadata": {
        "id": "iXmGoNAiymcd"
      },
      "source": [
        "<!-- <img src=\"https://s3-eu-west-1.amazonaws.com/dani.gon.med/cidaen/images/cidaenNB.png\" alt=\"Logo CiDAEN\" align=\"right\"> -->\n",
        "\n",
        "<h1><font color=\"#113D68\" size=5>Módulo 6</font></h1>\n",
        "\n",
        "\n",
        "\n",
        "<h1><font color=\"#113D68\" size=6>Google Colab</font></h1>\n",
        "\n",
        "<br><br>\n",
        "<div style=\"text-align: right\">\n",
        "  <font color=\"#113D68\" size=3>Daniel González</font><br>\n",
        "  <font color=\"#113D68\" size=3>Máster en Ciencia de Datos e Ingienería de Datos en la Nube</font><br>\n",
        "  <font color=\"#113D68\" size=3>Universidad de Castilla-La Mancha</font>\n",
        "</div>"
      ]
    },
    {
      "cell_type": "markdown",
      "metadata": {
        "id": "M51sQoF1ypM9"
      },
      "source": [
        "---\n",
        "\n",
        "<a id=\"indice\"></a>\n",
        "<h2><font color=\"#004D7F\" size=5>Índice</font></h2>\n",
        "\n",
        "* [1. Introducción](#section1)\n",
        "    * [Runtime](#section1.1)\n",
        "    * [Guardar, descargar y subir datos](#section1.2)\n",
        "    * [Colaborativo](#section1.3)\n",
        "    * [Ejemplos](#section1.4)"
      ]
    },
    {
      "cell_type": "markdown",
      "metadata": {
        "id": "glwhvC7E0u7F"
      },
      "source": [
        "<a id=\"section1\"></a>\n",
        "# <font color=\"#004D7F\" size=5> 1. Introducción</font>"
      ]
    },
    {
      "cell_type": "markdown",
      "metadata": {
        "id": "aQbL6bZu1Dqw"
      },
      "source": [
        "_Colaboratory_ (_Colab_) es una plataforma online para ejecutar cuadernos de _Jupyter_ de forma sencilla sin necesidad de instalar nada en local. Se utiliza a través de un navegador (compatible con Google Chrome, Firefox y Safari) y se ejecuta todo en la nube. Para poder utilizarlo solamente se necesita una cuenta de _Google Drive_ ya que es donde se almacenarán los cuadernos de _Jupyter_ que creemos.\n",
        "\n",
        "_Colab_ está desarrollado por _Google_ y se utilizaba como herramienta interna para _machine learning_ hasta finales de 2017 cuando se hizo pública para que pudiera ser utilizado por cualquier persona de forma gratuita con fines **académicos** e **investigadores**, no para uso comercial. \n",
        "\n",
        "En esta libreta veremos cómo aprovechar las ventajas que ofrece _Colab_. Existen otras ventajas y características que no veremos aquí, para saber más podéis visitar este link: https://colab.research.google.com/notebooks/welcome.ipynb"
      ]
    },
    {
      "cell_type": "markdown",
      "metadata": {
        "id": "u_VGxfk62iQB"
      },
      "source": [
        "<a id=\"section1.1\"></a>\n",
        "# <font color=\"#004D7F\" size=4>Runtime</font>\n",
        "\n",
        "La mayor ventaja que ofrece _Colab_ es que no es necesario establecer nada del entorno de ejecución ni instalar nada. Cuando iniciamos un cuaderno nuevo, automáticamente se levanta una máquina virtual en la nube ([_Google Cloud_](https://cloud.google.com/)) con un tiempo de vida máximo de 12 horas, que tiene un entorno de ejecución establecido llamado _runtime_.\n",
        "\n",
        "En el _runtime_ se pueden modificar 2 características:\n",
        "\n",
        "1. El tipo de ejecución: es el lenguaje de programación sobre el que ejecutaremos nuestro código. En este momento solo está disponible Python y se puede _Python 3.6_.\n",
        "2. La aceleración hardware: se puede elegir el tipo de hardware que queremos utilizar para acelerar la ejecución de nuestro código. Se puede elegir entre ningún tipo de aceleración (solo se usa la CPU), GPU o TPU.\n",
        "\n",
        "> _**Importante**: Colab no está enfocado a hacer un uso excesivo de la GPU, si se usa de forma excesiva se bloquerá el uso de la GPU._"
      ]
    },
    {
      "cell_type": "code",
      "metadata": {
        "id": "IQKk-65AFftd"
      },
      "source": [
        "!python --version"
      ],
      "execution_count": null,
      "outputs": []
    },
    {
      "cell_type": "markdown",
      "metadata": {
        "id": "cNdCMFIEFkPs"
      },
      "source": [
        "En el _runtime_ también tenemos varias librerías instaladas por defecto como _tensorflow_, _numpy_, _matplotlib_, etc."
      ]
    },
    {
      "cell_type": "code",
      "metadata": {
        "id": "i8sxTe8mIz4v"
      },
      "source": [
        "import numpy as np\n",
        "\n",
        "print(\"Numpy version: \" + np.__version__)"
      ],
      "execution_count": null,
      "outputs": []
    },
    {
      "cell_type": "markdown",
      "metadata": {
        "id": "xnEZ2B8mJE1p"
      },
      "source": [
        "Si quisieramos instalar alguna librería adicional o cambiar la versión de alguna librería ya instalada podríamos hacerlo con el comando `!pip install numpy==1.18.0`."
      ]
    },
    {
      "cell_type": "code",
      "metadata": {
        "id": "cDaZ0BybJnuJ"
      },
      "source": [
        "!pip install numpy==1.18.0"
      ],
      "execution_count": null,
      "outputs": []
    },
    {
      "cell_type": "markdown",
      "metadata": {
        "id": "OXXfa7q0NXPx"
      },
      "source": [
        "<a id=\"section1.2\"></a>\n",
        "# <font color=\"#004D7F\" size=4>Guardar, descargar y subir datos</font>\n",
        "\n",
        "_Colab_ ofrece 3 alternativas para guardar los archivos creemos:\n",
        "\n",
        "1. Google Drive: podemos guardar los archivos directamente en Google Drive pero antes tendremos que montar nuestro Drive en Google Colab cada vez que iniciemos una sesión en un notebook. De esta forma si nuestros datos están en Google Drive, podemos montar nuestro Google Drive como un nuevo volumen en la máquina virtual, y así acceder a cualquier archivo que tengamos alojado en Google Drive, además de poder guardar archicos derectamente ahí. Para montar nuestro Google Drive podemos hacerlo de la siguiente forma:"
      ]
    },
    {
      "cell_type": "code",
      "metadata": {
        "id": "ke9cmiA8Oxvo"
      },
      "source": [
        "from google.colab import drive\n",
        "drive.mount('/content/drive')"
      ],
      "execution_count": null,
      "outputs": []
    },
    {
      "cell_type": "markdown",
      "metadata": {
        "id": "OAhOd8GlvoEZ"
      },
      "source": [
        "2. Descargar y subida: descargar los archivos creados y subir los archivos que necesitemos. Para ellos podemos hacerlo directamente con la interfaz o mediante código usando la API de Google Colab.\n",
        "\n",
        "  Subir ficheros:\n"
      ]
    },
    {
      "cell_type": "code",
      "metadata": {
        "id": "xM5Gh9OgPJTF"
      },
      "source": [
        "from google.colab import files\n",
        "\n",
        "uploaded = files.upload()\n",
        "\n",
        "for fn in uploaded.keys():\n",
        "  print('User uploaded file \"{name}\" with length {length} bytes'.format(\n",
        "      name=fn, length=len(uploaded[fn])))"
      ],
      "execution_count": null,
      "outputs": []
    },
    {
      "cell_type": "markdown",
      "metadata": {
        "id": "serA4HMcwLZK"
      },
      "source": [
        "Descargar ficheros:"
      ]
    },
    {
      "cell_type": "code",
      "metadata": {
        "id": "HOssqtXdQoSV"
      },
      "source": [
        "from google.colab import files\n",
        "\n",
        "with open('example.txt', 'w') as f:\n",
        "  f.write('some content')\n",
        "\n",
        "files.download('example.txt')"
      ],
      "execution_count": null,
      "outputs": []
    },
    {
      "cell_type": "markdown",
      "metadata": {
        "id": "Ocd79MyXwyz-"
      },
      "source": [
        "\n",
        "3. Github: podemos guardar los archivos en un repositorio de Github ya creado."
      ]
    },
    {
      "cell_type": "markdown",
      "metadata": {
        "id": "Z1hA17VhPgKq"
      },
      "source": [
        "Las alternativas que hemos visto para subir y descargar datos son las más comunes, pero existen otras formas que podéis ver en el siguiente enlace https://colab.research.google.com/notebooks/io.ipynb"
      ]
    },
    {
      "cell_type": "markdown",
      "metadata": {
        "id": "Yr8AleyM3Wtp"
      },
      "source": [
        "<a id=\"section1.3\"></a>\n",
        "# <font color=\"#004D7F\" size=4>Colaborativo</font>\n",
        "\n",
        "Los cuadernos de _Colab_ tienen el mismo funcionamiento que los fichero de Google Doc o Google Sheet, puede ser compartido y modificados en tiempo real por más personas a través de Google Drive."
      ]
    },
    {
      "cell_type": "markdown",
      "metadata": {
        "id": "LbaY8F7Z_hHr"
      },
      "source": [
        "<a id=\"section1.4\"></a>\n",
        "# <font color=\"#004D7F\" size=4>Ejemplos</font>\n",
        "\n",
        "En el link https://research.google.com/seedbank/ existen una gran cantidad de proyecto públicos de _Colab_ que pueden ser utilizados. En este link encontraréis varios tutoriales y ejemplos de proyectos basados en redes neuronales que os pueden servir de gran ayuda."
      ]
    }
  ]
}